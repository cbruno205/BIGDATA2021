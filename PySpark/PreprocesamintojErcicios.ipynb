{
  "nbformat": 4,
  "nbformat_minor": 0,
  "metadata": {
    "colab": {
      "name": "PreprocesamintojErcicios.ipynb",
      "provenance": []
    },
    "kernelspec": {
      "name": "python3",
      "display_name": "Python 3"
    },
    "language_info": {
      "name": "python"
    }
  },
  "cells": [
    {
      "cell_type": "code",
      "source": [
        "!pip install pyspark"
      ],
      "metadata": {
        "colab": {
          "base_uri": "https://localhost:8080/"
        },
        "id": "PeLGGOndbkFH",
        "outputId": "6f92a1cb-edcd-40c6-856a-f47c8a99c41a"
      },
      "execution_count": 1,
      "outputs": [
        {
          "output_type": "stream",
          "name": "stdout",
          "text": [
            "Collecting pyspark\n",
            "  Downloading pyspark-3.2.0.tar.gz (281.3 MB)\n",
            "\u001b[K     |████████████████████████████████| 281.3 MB 45 kB/s \n",
            "\u001b[?25hCollecting py4j==0.10.9.2\n",
            "  Downloading py4j-0.10.9.2-py2.py3-none-any.whl (198 kB)\n",
            "\u001b[K     |████████████████████████████████| 198 kB 69.8 MB/s \n",
            "\u001b[?25hBuilding wheels for collected packages: pyspark\n",
            "  Building wheel for pyspark (setup.py) ... \u001b[?25l\u001b[?25hdone\n",
            "  Created wheel for pyspark: filename=pyspark-3.2.0-py2.py3-none-any.whl size=281805912 sha256=4234fba72a513f1ab2ed1fb5d4f4f53b48543bf2979a1e5cd97b304cee8d2697\n",
            "  Stored in directory: /root/.cache/pip/wheels/0b/de/d2/9be5d59d7331c6c2a7c1b6d1a4f463ce107332b1ecd4e80718\n",
            "Successfully built pyspark\n",
            "Installing collected packages: py4j, pyspark\n",
            "Successfully installed py4j-0.10.9.2 pyspark-3.2.0\n"
          ]
        }
      ]
    },
    {
      "cell_type": "code",
      "source": [
        "from pyspark import SparkContext, SparkConf\n",
        "conf = SparkConf().setAppName(\"appName\")\n",
        "sc = SparkContext(conf=conf)"
      ],
      "metadata": {
        "id": "nMBZVldybuww"
      },
      "execution_count": 2,
      "outputs": []
    },
    {
      "cell_type": "code",
      "source": [
        "import math\n",
        "from pyspark.sql.functions import *"
      ],
      "metadata": {
        "id": "5ov-glBXba35"
      },
      "execution_count": 3,
      "outputs": []
    },
    {
      "cell_type": "code",
      "source": [
        "#creamos una pequeña data\n",
        "import random\n",
        "data = [random.randint(1, 20) for _ in range(20)]\n",
        "data"
      ],
      "metadata": {
        "colab": {
          "base_uri": "https://localhost:8080/"
        },
        "id": "CMuOjxCsovB4",
        "outputId": "95f00c94-d8fb-4438-9bf3-3aea34c28f6e"
      },
      "execution_count": 19,
      "outputs": [
        {
          "output_type": "execute_result",
          "data": {
            "text/plain": [
              "[20, 16, 13, 13, 5, 17, 12, 7, 20, 8, 12, 9, 17, 12, 16, 20, 15, 14, 19, 17]"
            ]
          },
          "metadata": {},
          "execution_count": 19
        }
      ]
    },
    {
      "cell_type": "code",
      "execution_count": 6,
      "metadata": {
        "id": "SJTNBeBPbXE8"
      },
      "outputs": [],
      "source": [
        "#Estandarizacion\n",
        "#Primero hallamnos la media, tambien la desviacion estandar, luego se realizamos la estandarizacion a todos los elementos\n",
        "def standardization (data):\n",
        "    Mean = data.mean()\n",
        "    Standard_Deviation = data.stdev()\n",
        "    ans = data.map(lambda x: (x-Mean)/(Standard_Deviation))\n",
        "    return ans"
      ]
    },
    {
      "cell_type": "code",
      "source": [
        "\n",
        "dataRDD = sc.parallelize(data,3)\n",
        "test = standardization(dataRDD)\n",
        "print(test.collect())"
      ],
      "metadata": {
        "colab": {
          "base_uri": "https://localhost:8080/"
        },
        "id": "OnYPDmQzdmPh",
        "outputId": "3e64f586-85fe-4270-b720-d9531bffa95b"
      },
      "execution_count": 20,
      "outputs": [
        {
          "output_type": "stream",
          "name": "stdout",
          "text": [
            "[1.3647319560747138, 0.43948995195626384, -0.25444155113257366, -0.25444155113257366, -2.1049255593694736, 0.6708004529858763, -0.48575205216218614, -1.6423045573102486, 1.3647319560747138, -1.4109940562806362, -0.48575205216218614, -1.1796835552510236, 0.6708004529858763, -0.48575205216218614, 0.43948995195626384, 1.3647319560747138, 0.20817945092665133, -0.023131050102961168, 1.1334214550451014, 0.6708004529858763]\n"
          ]
        }
      ]
    },
    {
      "cell_type": "code",
      "source": [
        "#Escalonamiento\n",
        "#primeo hallamos el termino minimno y termino maxino, luego hallamos el escalonamiento\n",
        "def staging (data):\n",
        "    max = data.max()\n",
        "    min = data.min()\n",
        "    ans = data.map(lambda x: (x-min)/(max-min))\n",
        "    return ans"
      ],
      "metadata": {
        "id": "eakx8iaNgDhZ"
      },
      "execution_count": 15,
      "outputs": []
    },
    {
      "cell_type": "code",
      "source": [
        "dataRDD1 = sc.parallelize(data,3)\n",
        "test1 = staging(dataRDD1)\n",
        "print(test1.collect())"
      ],
      "metadata": {
        "colab": {
          "base_uri": "https://localhost:8080/"
        },
        "id": "rvlpLJiqgFRS",
        "outputId": "c6d1cd12-bd57-4cc2-cb89-dbe5e536a763"
      },
      "execution_count": 23,
      "outputs": [
        {
          "output_type": "stream",
          "name": "stdout",
          "text": [
            "[1.0, 0.7333333333333333, 0.5333333333333333, 0.5333333333333333, 0.0, 0.8, 0.4666666666666667, 0.13333333333333333, 1.0, 0.2, 0.4666666666666667, 0.26666666666666666, 0.8, 0.4666666666666667, 0.7333333333333333, 1.0, 0.6666666666666666, 0.6, 0.9333333333333333, 0.8]\n"
          ]
        }
      ]
    },
    {
      "cell_type": "code",
      "source": [
        "#primero hallamos la lista de cuadros , los sumamos y finamente escalonamos\n",
        "def normalization(x):\n",
        "    squared = x.map(lambda x:x * x)\n",
        "    total_sum = squared.sum()\n",
        "    val = math.sqrt(total_sum)\n",
        "    ans = x.map(lambda xi :(xi/val))\n",
        "    return ans "
      ],
      "metadata": {
        "id": "qzpho9ZwgS_Y"
      },
      "execution_count": 27,
      "outputs": []
    },
    {
      "cell_type": "code",
      "source": [
        "dataRDD2 = sc.parallelize(data,3)\n",
        "test2 = normalization(dataRDD2)\n",
        "print(test2.collect())"
      ],
      "metadata": {
        "colab": {
          "base_uri": "https://localhost:8080/"
        },
        "id": "h9R-7t11gU4I",
        "outputId": "d9a96a70-3b5f-4a10-8813-228e05570f25"
      },
      "execution_count": 28,
      "outputs": [
        {
          "output_type": "stream",
          "name": "stdout",
          "text": [
            "[0.3032392174315614, 0.2425913739452491, 0.1971054913305149, 0.1971054913305149, 0.07580980435789035, 0.25775333481682716, 0.18194353045893683, 0.10613372610104649, 0.3032392174315614, 0.12129568697262455, 0.18194353045893683, 0.1364576478442026, 0.25775333481682716, 0.18194353045893683, 0.2425913739452491, 0.3032392174315614, 0.22742941307367104, 0.21226745220209298, 0.2880772565599833, 0.25775333481682716]\n"
          ]
        }
      ]
    },
    {
      "cell_type": "code",
      "source": [
        "#producto de una tupla\n",
        "def ProductI(X):\n",
        "  return X[0]*X[1]\n",
        "\n",
        "# agrupamos las dos listas en tublas, hallamos la suma del producto de las tuplas, hallamos la suma del cuadrado de amabos elementos de la tupla y hallamos la sililitud de cosenos \n",
        "def Similaritycos(v1,v2):\n",
        "  v=list(zip( v1, v2))\n",
        "  A1 = sc.parallelize(v1,3)\n",
        "  A2 = sc.parallelize(v2,3)\n",
        "  A3 = sc.parallelize(v,3)\n",
        "  SumProd = A3.map(lambda x: ProductI(x)).sum()\n",
        "  SumProdSqu = A1.map(lambda x:x**2).sum()\n",
        "  SumProdSqu1 = A2.map(lambda x:x**2).sum()\n",
        "  ans = (SumProd) / ( SumProdSqu**(1/2) * SumProdSqu1**(1/2) )\n",
        "  return ans"
      ],
      "metadata": {
        "id": "Ikbxx47R2IbW"
      },
      "execution_count": 36,
      "outputs": []
    },
    {
      "cell_type": "code",
      "source": [
        "v1=list(range(5,10))\n",
        "v2=list(range(10,15))\n",
        "print(Similaritycos(v1,v2))"
      ],
      "metadata": {
        "colab": {
          "base_uri": "https://localhost:8080/"
        },
        "id": "gqahLtEu2Rsz",
        "outputId": "406ae283-c04f-401d-8d26-8278a3a6a4ef"
      },
      "execution_count": 40,
      "outputs": [
        {
          "output_type": "stream",
          "name": "stdout",
          "text": [
            "0.9966368371814116\n"
          ]
        }
      ]
    }
  ]
}