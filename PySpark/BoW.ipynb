{
  "nbformat": 4,
  "nbformat_minor": 0,
  "metadata": {
    "colab": {
      "name": "BoW.ipynb",
      "provenance": []
    },
    "kernelspec": {
      "name": "python3",
      "display_name": "Python 3"
    },
    "language_info": {
      "name": "python"
    }
  },
  "cells": [
    {
      "cell_type": "code",
      "source": [
        "!pip install pyspark"
      ],
      "metadata": {
        "colab": {
          "base_uri": "https://localhost:8080/"
        },
        "id": "f82eBoIo9MwP",
        "outputId": "91a02f37-0ae3-4199-debf-6eadbc43f27f"
      },
      "execution_count": 1,
      "outputs": [
        {
          "output_type": "stream",
          "name": "stdout",
          "text": [
            "Collecting pyspark\n",
            "  Downloading pyspark-3.2.0.tar.gz (281.3 MB)\n",
            "\u001b[K     |████████████████████████████████| 281.3 MB 39 kB/s \n",
            "\u001b[?25hCollecting py4j==0.10.9.2\n",
            "  Downloading py4j-0.10.9.2-py2.py3-none-any.whl (198 kB)\n",
            "\u001b[K     |████████████████████████████████| 198 kB 53.8 MB/s \n",
            "\u001b[?25hBuilding wheels for collected packages: pyspark\n",
            "  Building wheel for pyspark (setup.py) ... \u001b[?25l\u001b[?25hdone\n",
            "  Created wheel for pyspark: filename=pyspark-3.2.0-py2.py3-none-any.whl size=281805912 sha256=9113b687a226e1aaa14abbfdce3823eab77a240b56a4076b6eaf6fddc47180fe\n",
            "  Stored in directory: /root/.cache/pip/wheels/0b/de/d2/9be5d59d7331c6c2a7c1b6d1a4f463ce107332b1ecd4e80718\n",
            "Successfully built pyspark\n",
            "Installing collected packages: py4j, pyspark\n",
            "Successfully installed py4j-0.10.9.2 pyspark-3.2.0\n"
          ]
        }
      ]
    },
    {
      "cell_type": "code",
      "source": [
        "from pyspark import SparkContext, SparkConf\n",
        "conf = SparkConf().setAppName(\"appName\")\n",
        "sc = SparkContext(conf=conf)"
      ],
      "metadata": {
        "id": "RVT0Or8-9ad-"
      },
      "execution_count": 2,
      "outputs": []
    },
    {
      "cell_type": "code",
      "execution_count": 17,
      "metadata": {
        "id": "4GUIsp8f7Lqa"
      },
      "outputs": [],
      "source": [
        "def BoW(A):\n",
        "    x=A.strip().lower().split()\n",
        "    return list(filter(lambda x:len(x)>2,x))"
      ]
    },
    {
      "cell_type": "code",
      "source": [
        "data=[\"El árbitro llegó puntualmente, pero los jugadores no se presentaron en el estadio.\"\n",
        "        \"El escritor que me recomendaste usa metáforas muy lindas.\",\n",
        "        \"El mozo tomó los pedidos y la comida llegó en poco tiempo.\"]\n",
        "Texto=sc.parallelize(data,3)\n",
        "Texto=Texto.map(BoW)\n",
        "print(Texto.collect())"
      ],
      "metadata": {
        "colab": {
          "base_uri": "https://localhost:8080/"
        },
        "id": "RFmicPHb8OEc",
        "outputId": "a4012f7e-93d9-4ec8-da5d-59adce54ffbd"
      },
      "execution_count": 21,
      "outputs": [
        {
          "output_type": "stream",
          "name": "stdout",
          "text": [
            "[['árbitro', 'llegó', 'puntualmente,', 'pero', 'los', 'jugadores', 'presentaron', 'estadio.el', 'escritor', 'que', 'recomendaste', 'usa', 'metáforas', 'muy', 'lindas.'], ['mozo', 'tomó', 'los', 'pedidos', 'comida', 'llegó', 'poco', 'tiempo.']]\n"
          ]
        }
      ]
    }
  ]
}