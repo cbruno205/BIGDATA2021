{
  "nbformat": 4,
  "nbformat_minor": 0,
  "metadata": {
    "colab": {
      "name": "ACTIVIDAD03.ipynb",
      "provenance": []
    },
    "kernelspec": {
      "display_name": "Python 3",
      "name": "python3"
    },
    "language_info": {
      "name": "python"
    }
  },
  "cells": [
    {
      "cell_type": "markdown",
      "metadata": {
        "id": "7L2m1IplllVW"
      },
      "source": [
        "#Algoritmo Apriori\n",
        "---\n",
        "```\n",
        "Autor     : Bruno Moises Condori Ccarhuarupay\n",
        "Fecha     : 20/11/2021\n",
        "```\n",
        "---"
      ]
    },
    {
      "cell_type": "code",
      "metadata": {
        "id": "h_CP3g-3mcBV"
      },
      "source": [
        "import pandas as pd\n",
        "import numpy as np\n",
        "import collections #manejo de los diccionarios y tuplas\n",
        "from collections import defaultdict"
      ],
      "execution_count": 1,
      "outputs": []
    },
    {
      "cell_type": "markdown",
      "metadata": {
        "id": "ZN1E6Sau048Q"
      },
      "source": [
        "#Implementacion"
      ]
    },
    {
      "cell_type": "code",
      "metadata": {
        "id": "Mo1ORtl-2jBV"
      },
      "source": [
        "# Intersection devulve todos los conjuntos intersecados, estos son el soporte de determinado itemset.\n",
        "def intersection_s(set_s,playlist_s):\n",
        "    playlists_inter = []\n",
        "    for song in set_s:\n",
        "        playlists_inter.append(playlist_s[song])\n",
        "    return len(set.intersection(*playlists_inter))\n",
        "    \n",
        "#Genera combinaciones en los itemsets    \n",
        "def combinations(it, r):\n",
        "    aux = tuple(it)\n",
        "    n = len(aux)\n",
        "    if r > n:\n",
        "        return\n",
        "    indices = list(range(r))\n",
        "    yield tuple(aux[i] for i in indices)\n",
        "    while True:\n",
        "        for i in reversed(range(r)):\n",
        "            if indices[i] != i + n - r:\n",
        "                break\n",
        "        else:\n",
        "            return\n",
        "        indices[i] += 1\n",
        "        for j in range(i + 1, r):\n",
        "            indices[j] = indices[j - 1] + 1\n",
        "        yield tuple(aux[i] for i in indices)"
      ],
      "execution_count": 4,
      "outputs": []
    },
    {
      "cell_type": "code",
      "metadata": {
        "id": "iyYUzOaDfvrw"
      },
      "source": [
        "#Recibe la estructura de datos que contiene a las playlists y retorna una estructura con los itemsets fre-cuentes, bajo un umbral mínimo de soporte.\n",
        "def get_frequent_itemsets(playlists, min_support):\n",
        "  #Genera la frecuencia de cada cancion\n",
        "  playlists = list(playlists.item().values())\n",
        "  playlists = [set(playlist) for playlist in playlists]\n",
        "  songes = [item for sublist in playlists for item in sublist]\n",
        "  count_S = pd.Series(data=songes).value_counts().to_dict()\n",
        "  #Se genera un diccionario de canciones y los indices \n",
        "  songs_pl = collections.defaultdict(set)\n",
        "  for index, playlist in enumerate(playlists):\n",
        "      for song in playlist:\n",
        "          songs_pl[song].add(index)\n",
        "  songs_pl = songs_pl\n",
        "  count = {song: v for song, v in count_S.items() if v / len(playlists) >= min_support}\n",
        "  itemset = [{song} for song in count.keys()]\n",
        "  #Los itemsets mas frecuentes\n",
        "  frecuency_itemsets = {}\n",
        "  frecuency_itemsets[1] = sorted(count.items(), key=lambda x: x[1], reverse=True)\n",
        "  frecuency_itemsets_size = []\n",
        "  k = 2\n",
        "  current = itemset\n",
        "  while len(current) != 0:\n",
        "    #Generar itemsets As\n",
        "    combinations = set() \n",
        "    m = k - 2\n",
        "    for A in current: \n",
        "      A = list(A)\n",
        "      for aux_A in current:\n",
        "        aux_A = list(aux_A)\n",
        "        u = True\n",
        "        for i in range(k - 2):\n",
        "          if A[i] != aux_A[i]:\n",
        "              u = False\n",
        "              break\n",
        "        if not u:\n",
        "          continue\n",
        "        if A[k - 2] < aux_A[k - 2]:\n",
        "          c = A + [aux_A[k - 2]]\n",
        "          c = frozenset(sorted(c))\n",
        "          combinations.add(c)\n",
        "    #verificacion del minimo de soporte para creacion de los itemsets.\n",
        "    count_cb = {}   \n",
        "    playlist_size = len(playlists)   \n",
        "    for A in combinations:\n",
        "        playlists_inter = []\n",
        "        for song in A:\n",
        "          playlists_inter.append(songs_pl[song])\n",
        "        count_cb[A] = len(set.intersection(*playlists_inter))\n",
        "    count2 = {subset: v for subset, v in count_cb.items() if v / playlist_size >= min_support} \n",
        "    dict2 = count2.keys() \n",
        "    frecuency_itemsets_size.extend(dict2)\n",
        "    frecuency_itemsets[k] = sorted(count2.items(), key=lambda x: x[1], reverse=True)\n",
        "    k += 1\n",
        "    current = dict2\n",
        "\n",
        "  sets = pd.DataFrame([item for sublist in frecuency_itemsets.values() for item in sublist]).round(3)\n",
        "  sets.columns = [\"itemset\", \"contador_support\"]\n",
        "  sets[\"support\"] = sets[\"contador_support\"] / len(playlists)\n",
        "\n",
        "  output = []\n",
        "  \n",
        "  output.append(sets) # Itemsets mas frecuentes.\n",
        "  output.append(playlists)# Datos de la playlist.\n",
        "  output.append(songs_pl)# canciones de la playlists.\n",
        "  output.append(frecuency_itemsets_size) # Itemsets.\n",
        "  return output"
      ],
      "execution_count": 7,
      "outputs": []
    },
    {
      "cell_type": "code",
      "metadata": {
        "id": "kwmnZb6vd7Rz"
      },
      "source": [
        "#Recibe los itemsets frecuentes generados por la función anterior y retorna las reglas de asociación. \n",
        "#Se le puede entregar umbrales de confianza o lift para las reglas que se retornarán.\n",
        "def generate_association_rules(frequent_itemsets, confidence, lift):\n",
        "  rules = []\n",
        "  for itemset in frequent_itemsets[3]:\n",
        "    #Todas las combinaciones posibles de X -> Y.\n",
        "    count = intersection_s(itemset,frequent_itemsets[2])\n",
        "    for i in range(1, len(itemset) + 1):\n",
        "        for x in combinations(itemset, i):\n",
        "            x = set(x)\n",
        "            y = set(itemset) - x\n",
        "            x1 = intersection_s(x,frequent_itemsets[2]) / len(frequent_itemsets[0])\n",
        "            xy1 = intersection_s(x.union(y),frequent_itemsets[2]) / len(frequent_itemsets[0])\n",
        "            confidence_rule = xy1 / x1\n",
        "            if len(x) > 0 and len(y) > 0:\n",
        "                y1 = intersection_s(y,frequent_itemsets[2]) / len(frequent_itemsets[0])\n",
        "                rule_lift = xy1 / (x1 * y1)\n",
        "                rules.append((x, y, confidence_rule, xy1, rule_lift))\n",
        "  rulesd1 = pd.DataFrame(data=rules, columns=[\"X\", \"Y\", \"confidence\", \"support\", \"lift\"]).round(3)\n",
        "  rulesd1[\"X\"] = list(map(tuple, rulesd1[\"X\"]))\n",
        "  rulesd1[\"Y\"] = list(map(tuple, rulesd1[\"Y\"]))\n",
        "\n",
        "  #Reglas de asociacion de 10 elementos del confidence\n",
        "  order_by = \"confidence\"\n",
        "  n = 10\n",
        "  confidence_df = rulesd1.sort_values(order_by, ascending=False).head(n)\n",
        "\n",
        "  #Reglas de asociacion de 10 elementos del lift\n",
        "  order_by = \"lift\"\n",
        "  n = 10\n",
        "  lift_df2 = rulesd1.sort_values(order_by, ascending=False).head(n)\n",
        "\n",
        "  #Hallar las reglas de asociacion que cumplan con la condicion de confianza y lift\n",
        "  rulesd1[\"len_itemset\"] = rulesd1.apply(lambda x: len(set(x[\"X\"]).union(set(x[\"Y\"]))), axis=1)\n",
        "  rulesd1=rulesd1.sort_values(by=\"len_itemset\", ascending=False)\n",
        "  both_rules = rulesd1[(rulesd1[\"confidence\"] >= confidence) & (rulesd1[\"lift\"] >= lift)]\n",
        "\n",
        "  return confidence_df,lift_df2,both_rules"
      ],
      "execution_count": 3,
      "outputs": []
    },
    {
      "cell_type": "markdown",
      "metadata": {
        "id": "kBunCyNyFyZM"
      },
      "source": [
        "Lectura de datos"
      ]
    },
    {
      "cell_type": "code",
      "metadata": {
        "id": "RwitjL10x5_b"
      },
      "source": [
        "db = np.load(\"spotify.npy\", allow_pickle = True)"
      ],
      "execution_count": 5,
      "outputs": []
    },
    {
      "cell_type": "markdown",
      "metadata": {
        "id": "rnwqHkdzjou3"
      },
      "source": [
        "Creamos itemsets con un umbral de soporte bajo (0.01)."
      ]
    },
    {
      "cell_type": "code",
      "metadata": {
        "id": "tRkq69NIYejZ"
      },
      "source": [
        "itemsets = get_frequent_itemsets(db,0.01)"
      ],
      "execution_count": 8,
      "outputs": []
    },
    {
      "cell_type": "markdown",
      "metadata": {
        "id": "Hzi94lAxj04V"
      },
      "source": [
        "Hallamos los 10 itemsets frecuentes con mayor soporte."
      ]
    },
    {
      "cell_type": "code",
      "metadata": {
        "colab": {
          "base_uri": "https://localhost:8080/",
          "height": 204
        },
        "id": "JpfOoQBAanC-",
        "outputId": "8a55202f-b532-4b84-df52-216724bd9634"
      },
      "source": [
        "itemsets[0].sort_values(by=\"support\").head()"
      ],
      "execution_count": 9,
      "outputs": [
        {
          "output_type": "execute_result",
          "data": {
            "text/html": [
              "<div>\n",
              "<style scoped>\n",
              "    .dataframe tbody tr th:only-of-type {\n",
              "        vertical-align: middle;\n",
              "    }\n",
              "\n",
              "    .dataframe tbody tr th {\n",
              "        vertical-align: top;\n",
              "    }\n",
              "\n",
              "    .dataframe thead th {\n",
              "        text-align: right;\n",
              "    }\n",
              "</style>\n",
              "<table border=\"1\" class=\"dataframe\">\n",
              "  <thead>\n",
              "    <tr style=\"text-align: right;\">\n",
              "      <th></th>\n",
              "      <th>itemset</th>\n",
              "      <th>contador_support</th>\n",
              "      <th>support</th>\n",
              "    </tr>\n",
              "  </thead>\n",
              "  <tbody>\n",
              "    <tr>\n",
              "      <th>1023</th>\n",
              "      <td>(DNA., HUMBLE., Mask Off)</td>\n",
              "      <td>100</td>\n",
              "      <td>0.01</td>\n",
              "    </tr>\n",
              "    <tr>\n",
              "      <th>999</th>\n",
              "      <td>(goosebumps, No Problem (feat. Lil Wayne &amp; 2 C...</td>\n",
              "      <td>100</td>\n",
              "      <td>0.01</td>\n",
              "    </tr>\n",
              "    <tr>\n",
              "      <th>998</th>\n",
              "      <td>(Fake Love, Mask Off)</td>\n",
              "      <td>100</td>\n",
              "      <td>0.01</td>\n",
              "    </tr>\n",
              "    <tr>\n",
              "      <th>997</th>\n",
              "      <td>(No Problem (feat. Lil Wayne &amp; 2 Chainz), Blac...</td>\n",
              "      <td>100</td>\n",
              "      <td>0.01</td>\n",
              "    </tr>\n",
              "    <tr>\n",
              "      <th>996</th>\n",
              "      <td>(HUMBLE., Black Beatles)</td>\n",
              "      <td>100</td>\n",
              "      <td>0.01</td>\n",
              "    </tr>\n",
              "  </tbody>\n",
              "</table>\n",
              "</div>"
            ],
            "text/plain": [
              "                                                itemset  ...  support\n",
              "1023                          (DNA., HUMBLE., Mask Off)  ...     0.01\n",
              "999   (goosebumps, No Problem (feat. Lil Wayne & 2 C...  ...     0.01\n",
              "998                               (Fake Love, Mask Off)  ...     0.01\n",
              "997   (No Problem (feat. Lil Wayne & 2 Chainz), Blac...  ...     0.01\n",
              "996                            (HUMBLE., Black Beatles)  ...     0.01\n",
              "\n",
              "[5 rows x 3 columns]"
            ]
          },
          "metadata": {},
          "execution_count": 9
        }
      ]
    },
    {
      "cell_type": "markdown",
      "metadata": {
        "id": "Yl6tng-ckZHA"
      },
      "source": [
        "Generar reglas de asociacion con una confianza de 0.5 y 1.2 de lift."
      ]
    },
    {
      "cell_type": "code",
      "metadata": {
        "id": "QuDiANivoHb3"
      },
      "source": [
        "confidence_rules,lift_rules,both_rules = generate_association_rules(itemsets,0.5,1.2)"
      ],
      "execution_count": 10,
      "outputs": []
    },
    {
      "cell_type": "markdown",
      "metadata": {
        "id": "xLwUjUDIkiaS"
      },
      "source": [
        "Imprimimos las 10 reglas con mayor confidence"
      ]
    },
    {
      "cell_type": "code",
      "metadata": {
        "colab": {
          "base_uri": "https://localhost:8080/",
          "height": 359
        },
        "id": "bp7EKcjAp6dp",
        "outputId": "f705c28a-a5fc-4cb9-f649-0d692b562dcf"
      },
      "source": [
        "confidence_rules"
      ],
      "execution_count": 11,
      "outputs": [
        {
          "output_type": "execute_result",
          "data": {
            "text/html": [
              "<div>\n",
              "<style scoped>\n",
              "    .dataframe tbody tr th:only-of-type {\n",
              "        vertical-align: middle;\n",
              "    }\n",
              "\n",
              "    .dataframe tbody tr th {\n",
              "        vertical-align: top;\n",
              "    }\n",
              "\n",
              "    .dataframe thead th {\n",
              "        text-align: right;\n",
              "    }\n",
              "</style>\n",
              "<table border=\"1\" class=\"dataframe\">\n",
              "  <thead>\n",
              "    <tr style=\"text-align: right;\">\n",
              "      <th></th>\n",
              "      <th>X</th>\n",
              "      <th>Y</th>\n",
              "      <th>confidence</th>\n",
              "      <th>support</th>\n",
              "      <th>lift</th>\n",
              "    </tr>\n",
              "  </thead>\n",
              "  <tbody>\n",
              "    <tr>\n",
              "      <th>404</th>\n",
              "      <td>(DNA., Mask Off)</td>\n",
              "      <td>(HUMBLE.,)</td>\n",
              "      <td>0.909</td>\n",
              "      <td>0.098</td>\n",
              "      <td>2.002</td>\n",
              "    </tr>\n",
              "    <tr>\n",
              "      <th>386</th>\n",
              "      <td>(DNA., XO TOUR Llif3)</td>\n",
              "      <td>(HUMBLE.,)</td>\n",
              "      <td>0.864</td>\n",
              "      <td>0.100</td>\n",
              "      <td>1.904</td>\n",
              "    </tr>\n",
              "    <tr>\n",
              "      <th>318</th>\n",
              "      <td>(DNA.,)</td>\n",
              "      <td>(HUMBLE.,)</td>\n",
              "      <td>0.823</td>\n",
              "      <td>0.186</td>\n",
              "      <td>1.811</td>\n",
              "    </tr>\n",
              "    <tr>\n",
              "      <th>381</th>\n",
              "      <td>(Mask Off, XO TOUR Llif3)</td>\n",
              "      <td>(HUMBLE.,)</td>\n",
              "      <td>0.804</td>\n",
              "      <td>0.128</td>\n",
              "      <td>1.770</td>\n",
              "    </tr>\n",
              "    <tr>\n",
              "      <th>373</th>\n",
              "      <td>(Bounce Back, Broccoli (feat. Lil Yachty))</td>\n",
              "      <td>(Bad and Boujee (feat. Lil Uzi Vert),)</td>\n",
              "      <td>0.775</td>\n",
              "      <td>0.098</td>\n",
              "      <td>2.301</td>\n",
              "    </tr>\n",
              "    <tr>\n",
              "      <th>350</th>\n",
              "      <td>(Slippery (feat. Gucci Mane), XO TOUR Llif3)</td>\n",
              "      <td>(HUMBLE.,)</td>\n",
              "      <td>0.765</td>\n",
              "      <td>0.099</td>\n",
              "      <td>1.685</td>\n",
              "    </tr>\n",
              "    <tr>\n",
              "      <th>345</th>\n",
              "      <td>(Tunnel Vision, XO TOUR Llif3)</td>\n",
              "      <td>(HUMBLE.,)</td>\n",
              "      <td>0.750</td>\n",
              "      <td>0.100</td>\n",
              "      <td>1.652</td>\n",
              "    </tr>\n",
              "    <tr>\n",
              "      <th>363</th>\n",
              "      <td>(Mask Off, Congratulations)</td>\n",
              "      <td>(HUMBLE.,)</td>\n",
              "      <td>0.747</td>\n",
              "      <td>0.118</td>\n",
              "      <td>1.645</td>\n",
              "    </tr>\n",
              "    <tr>\n",
              "      <th>416</th>\n",
              "      <td>(goosebumps, Mask Off)</td>\n",
              "      <td>(HUMBLE.,)</td>\n",
              "      <td>0.743</td>\n",
              "      <td>0.107</td>\n",
              "      <td>1.637</td>\n",
              "    </tr>\n",
              "    <tr>\n",
              "      <th>428</th>\n",
              "      <td>(Bounce Back, Mask Off)</td>\n",
              "      <td>(HUMBLE.,)</td>\n",
              "      <td>0.743</td>\n",
              "      <td>0.099</td>\n",
              "      <td>1.635</td>\n",
              "    </tr>\n",
              "  </tbody>\n",
              "</table>\n",
              "</div>"
            ],
            "text/plain": [
              "                                                X  ...   lift\n",
              "404                              (DNA., Mask Off)  ...  2.002\n",
              "386                         (DNA., XO TOUR Llif3)  ...  1.904\n",
              "318                                       (DNA.,)  ...  1.811\n",
              "381                     (Mask Off, XO TOUR Llif3)  ...  1.770\n",
              "373    (Bounce Back, Broccoli (feat. Lil Yachty))  ...  2.301\n",
              "350  (Slippery (feat. Gucci Mane), XO TOUR Llif3)  ...  1.685\n",
              "345                (Tunnel Vision, XO TOUR Llif3)  ...  1.652\n",
              "363                   (Mask Off, Congratulations)  ...  1.645\n",
              "416                        (goosebumps, Mask Off)  ...  1.637\n",
              "428                       (Bounce Back, Mask Off)  ...  1.635\n",
              "\n",
              "[10 rows x 5 columns]"
            ]
          },
          "metadata": {},
          "execution_count": 11
        }
      ]
    },
    {
      "cell_type": "markdown",
      "metadata": {
        "id": "SRiCHNu-ksiL"
      },
      "source": [
        "Imprimimos las 10 reglas ordenadas con mayor lift"
      ]
    },
    {
      "cell_type": "code",
      "metadata": {
        "colab": {
          "base_uri": "https://localhost:8080/",
          "height": 359
        },
        "id": "i9bziMcuslGQ",
        "outputId": "315908ea-3839-4d8d-8cf1-64049624bd08"
      },
      "source": [
        "lift_rules"
      ],
      "execution_count": 12,
      "outputs": [
        {
          "output_type": "execute_result",
          "data": {
            "text/html": [
              "<div>\n",
              "<style scoped>\n",
              "    .dataframe tbody tr th:only-of-type {\n",
              "        vertical-align: middle;\n",
              "    }\n",
              "\n",
              "    .dataframe tbody tr th {\n",
              "        vertical-align: top;\n",
              "    }\n",
              "\n",
              "    .dataframe thead th {\n",
              "        text-align: right;\n",
              "    }\n",
              "</style>\n",
              "<table border=\"1\" class=\"dataframe\">\n",
              "  <thead>\n",
              "    <tr style=\"text-align: right;\">\n",
              "      <th></th>\n",
              "      <th>X</th>\n",
              "      <th>Y</th>\n",
              "      <th>confidence</th>\n",
              "      <th>support</th>\n",
              "      <th>lift</th>\n",
              "    </tr>\n",
              "  </thead>\n",
              "  <tbody>\n",
              "    <tr>\n",
              "      <th>154</th>\n",
              "      <td>(No Heart,)</td>\n",
              "      <td>(X (feat. Future),)</td>\n",
              "      <td>0.696</td>\n",
              "      <td>0.101</td>\n",
              "      <td>3.493</td>\n",
              "    </tr>\n",
              "    <tr>\n",
              "      <th>155</th>\n",
              "      <td>(X (feat. Future),)</td>\n",
              "      <td>(No Heart,)</td>\n",
              "      <td>0.505</td>\n",
              "      <td>0.101</td>\n",
              "      <td>3.493</td>\n",
              "    </tr>\n",
              "    <tr>\n",
              "      <th>284</th>\n",
              "      <td>(Chicken Fried,)</td>\n",
              "      <td>(Knee Deep (feat. Jimmy Buffett),)</td>\n",
              "      <td>0.500</td>\n",
              "      <td>0.104</td>\n",
              "      <td>3.261</td>\n",
              "    </tr>\n",
              "    <tr>\n",
              "      <th>285</th>\n",
              "      <td>(Knee Deep (feat. Jimmy Buffett),)</td>\n",
              "      <td>(Chicken Fried,)</td>\n",
              "      <td>0.682</td>\n",
              "      <td>0.104</td>\n",
              "      <td>3.261</td>\n",
              "    </tr>\n",
              "    <tr>\n",
              "      <th>258</th>\n",
              "      <td>(You Was Right,)</td>\n",
              "      <td>(Money Longer,)</td>\n",
              "      <td>0.603</td>\n",
              "      <td>0.114</td>\n",
              "      <td>3.183</td>\n",
              "    </tr>\n",
              "    <tr>\n",
              "      <th>259</th>\n",
              "      <td>(Money Longer,)</td>\n",
              "      <td>(You Was Right,)</td>\n",
              "      <td>0.603</td>\n",
              "      <td>0.114</td>\n",
              "      <td>3.183</td>\n",
              "    </tr>\n",
              "    <tr>\n",
              "      <th>99</th>\n",
              "      <td>(Butterfly Effect,)</td>\n",
              "      <td>(Bank Account,)</td>\n",
              "      <td>0.572</td>\n",
              "      <td>0.108</td>\n",
              "      <td>2.547</td>\n",
              "    </tr>\n",
              "    <tr>\n",
              "      <th>98</th>\n",
              "      <td>(Bank Account,)</td>\n",
              "      <td>(Butterfly Effect,)</td>\n",
              "      <td>0.483</td>\n",
              "      <td>0.108</td>\n",
              "      <td>2.547</td>\n",
              "    </tr>\n",
              "    <tr>\n",
              "      <th>38</th>\n",
              "      <td>(Bank Account,)</td>\n",
              "      <td>(Magnolia,)</td>\n",
              "      <td>0.491</td>\n",
              "      <td>0.110</td>\n",
              "      <td>2.541</td>\n",
              "    </tr>\n",
              "    <tr>\n",
              "      <th>39</th>\n",
              "      <td>(Magnolia,)</td>\n",
              "      <td>(Bank Account,)</td>\n",
              "      <td>0.571</td>\n",
              "      <td>0.110</td>\n",
              "      <td>2.541</td>\n",
              "    </tr>\n",
              "  </tbody>\n",
              "</table>\n",
              "</div>"
            ],
            "text/plain": [
              "                                      X  ...   lift\n",
              "154                         (No Heart,)  ...  3.493\n",
              "155                 (X (feat. Future),)  ...  3.493\n",
              "284                    (Chicken Fried,)  ...  3.261\n",
              "285  (Knee Deep (feat. Jimmy Buffett),)  ...  3.261\n",
              "258                    (You Was Right,)  ...  3.183\n",
              "259                     (Money Longer,)  ...  3.183\n",
              "99                  (Butterfly Effect,)  ...  2.547\n",
              "98                      (Bank Account,)  ...  2.547\n",
              "38                      (Bank Account,)  ...  2.541\n",
              "39                          (Magnolia,)  ...  2.541\n",
              "\n",
              "[10 rows x 5 columns]"
            ]
          },
          "metadata": {},
          "execution_count": 12
        }
      ]
    },
    {
      "cell_type": "markdown",
      "metadata": {
        "id": "vEADa48Bkum8"
      },
      "source": [
        " Imprimimos las 10 reglas con la mayor confidence y lift."
      ]
    },
    {
      "cell_type": "code",
      "metadata": {
        "colab": {
          "base_uri": "https://localhost:8080/",
          "height": 359
        },
        "id": "w-q-gAEetrpp",
        "outputId": "c3d912cc-b1a2-4a34-a15f-719d9557c8da"
      },
      "source": [
        "both_rules.head(10)"
      ],
      "execution_count": 13,
      "outputs": [
        {
          "output_type": "execute_result",
          "data": {
            "text/html": [
              "<div>\n",
              "<style scoped>\n",
              "    .dataframe tbody tr th:only-of-type {\n",
              "        vertical-align: middle;\n",
              "    }\n",
              "\n",
              "    .dataframe tbody tr th {\n",
              "        vertical-align: top;\n",
              "    }\n",
              "\n",
              "    .dataframe thead th {\n",
              "        text-align: right;\n",
              "    }\n",
              "</style>\n",
              "<table border=\"1\" class=\"dataframe\">\n",
              "  <thead>\n",
              "    <tr style=\"text-align: right;\">\n",
              "      <th></th>\n",
              "      <th>X</th>\n",
              "      <th>Y</th>\n",
              "      <th>confidence</th>\n",
              "      <th>support</th>\n",
              "      <th>lift</th>\n",
              "      <th>len_itemset</th>\n",
              "    </tr>\n",
              "  </thead>\n",
              "  <tbody>\n",
              "    <tr>\n",
              "      <th>447</th>\n",
              "      <td>(HUMBLE., Congratulations)</td>\n",
              "      <td>(XO TOUR Llif3,)</td>\n",
              "      <td>0.598</td>\n",
              "      <td>0.125</td>\n",
              "      <td>1.896</td>\n",
              "      <td>3</td>\n",
              "    </tr>\n",
              "    <tr>\n",
              "      <th>362</th>\n",
              "      <td>(HUMBLE., Congratulations)</td>\n",
              "      <td>(Mask Off,)</td>\n",
              "      <td>0.565</td>\n",
              "      <td>0.118</td>\n",
              "      <td>1.832</td>\n",
              "      <td>3</td>\n",
              "    </tr>\n",
              "    <tr>\n",
              "      <th>367</th>\n",
              "      <td>(iSpy (feat. Lil Yachty), HUMBLE.)</td>\n",
              "      <td>(Congratulations,)</td>\n",
              "      <td>0.703</td>\n",
              "      <td>0.106</td>\n",
              "      <td>1.787</td>\n",
              "      <td>3</td>\n",
              "    </tr>\n",
              "    <tr>\n",
              "      <th>368</th>\n",
              "      <td>(iSpy (feat. Lil Yachty), Congratulations)</td>\n",
              "      <td>(HUMBLE.,)</td>\n",
              "      <td>0.673</td>\n",
              "      <td>0.106</td>\n",
              "      <td>1.482</td>\n",
              "      <td>3</td>\n",
              "    </tr>\n",
              "    <tr>\n",
              "      <th>369</th>\n",
              "      <td>(HUMBLE., Congratulations)</td>\n",
              "      <td>(iSpy (feat. Lil Yachty),)</td>\n",
              "      <td>0.509</td>\n",
              "      <td>0.106</td>\n",
              "      <td>1.576</td>\n",
              "      <td>3</td>\n",
              "    </tr>\n",
              "    <tr>\n",
              "      <th>373</th>\n",
              "      <td>(Bounce Back, Broccoli (feat. Lil Yachty))</td>\n",
              "      <td>(Bad and Boujee (feat. Lil Uzi Vert),)</td>\n",
              "      <td>0.775</td>\n",
              "      <td>0.098</td>\n",
              "      <td>2.301</td>\n",
              "      <td>3</td>\n",
              "    </tr>\n",
              "    <tr>\n",
              "      <th>374</th>\n",
              "      <td>(Broccoli (feat. Lil Yachty), Bad and Boujee (...</td>\n",
              "      <td>(Bounce Back,)</td>\n",
              "      <td>0.645</td>\n",
              "      <td>0.098</td>\n",
              "      <td>2.224</td>\n",
              "      <td>3</td>\n",
              "    </tr>\n",
              "    <tr>\n",
              "      <th>375</th>\n",
              "      <td>(Bounce Back, Bad and Boujee (feat. Lil Uzi Ve...</td>\n",
              "      <td>(Broccoli (feat. Lil Yachty),)</td>\n",
              "      <td>0.592</td>\n",
              "      <td>0.098</td>\n",
              "      <td>1.519</td>\n",
              "      <td>3</td>\n",
              "    </tr>\n",
              "    <tr>\n",
              "      <th>379</th>\n",
              "      <td>(HUMBLE., Mask Off)</td>\n",
              "      <td>(XO TOUR Llif3,)</td>\n",
              "      <td>0.642</td>\n",
              "      <td>0.128</td>\n",
              "      <td>2.036</td>\n",
              "      <td>3</td>\n",
              "    </tr>\n",
              "    <tr>\n",
              "      <th>380</th>\n",
              "      <td>(HUMBLE., XO TOUR Llif3)</td>\n",
              "      <td>(Mask Off,)</td>\n",
              "      <td>0.642</td>\n",
              "      <td>0.128</td>\n",
              "      <td>2.081</td>\n",
              "      <td>3</td>\n",
              "    </tr>\n",
              "  </tbody>\n",
              "</table>\n",
              "</div>"
            ],
            "text/plain": [
              "                                                     X  ... len_itemset\n",
              "447                         (HUMBLE., Congratulations)  ...           3\n",
              "362                         (HUMBLE., Congratulations)  ...           3\n",
              "367                 (iSpy (feat. Lil Yachty), HUMBLE.)  ...           3\n",
              "368         (iSpy (feat. Lil Yachty), Congratulations)  ...           3\n",
              "369                         (HUMBLE., Congratulations)  ...           3\n",
              "373         (Bounce Back, Broccoli (feat. Lil Yachty))  ...           3\n",
              "374  (Broccoli (feat. Lil Yachty), Bad and Boujee (...  ...           3\n",
              "375  (Bounce Back, Bad and Boujee (feat. Lil Uzi Ve...  ...           3\n",
              "379                                (HUMBLE., Mask Off)  ...           3\n",
              "380                           (HUMBLE., XO TOUR Llif3)  ...           3\n",
              "\n",
              "[10 rows x 6 columns]"
            ]
          },
          "metadata": {},
          "execution_count": 13
        }
      ]
    },
    {
      "cell_type": "markdown",
      "metadata": {
        "id": "jRxB7YiKlUaA"
      },
      "source": [
        "#Obtener 4 reglas"
      ]
    },
    {
      "cell_type": "code",
      "metadata": {
        "colab": {
          "base_uri": "https://localhost:8080/",
          "height": 173
        },
        "id": "gT08W81uoUFL",
        "outputId": "410907a1-18a1-4bc9-ce0d-83c3b35d438d"
      },
      "source": [
        "Aux_4=both_rules.head(4)\n",
        "Aux_4"
      ],
      "execution_count": 14,
      "outputs": [
        {
          "output_type": "execute_result",
          "data": {
            "text/html": [
              "<div>\n",
              "<style scoped>\n",
              "    .dataframe tbody tr th:only-of-type {\n",
              "        vertical-align: middle;\n",
              "    }\n",
              "\n",
              "    .dataframe tbody tr th {\n",
              "        vertical-align: top;\n",
              "    }\n",
              "\n",
              "    .dataframe thead th {\n",
              "        text-align: right;\n",
              "    }\n",
              "</style>\n",
              "<table border=\"1\" class=\"dataframe\">\n",
              "  <thead>\n",
              "    <tr style=\"text-align: right;\">\n",
              "      <th></th>\n",
              "      <th>X</th>\n",
              "      <th>Y</th>\n",
              "      <th>confidence</th>\n",
              "      <th>support</th>\n",
              "      <th>lift</th>\n",
              "      <th>len_itemset</th>\n",
              "    </tr>\n",
              "  </thead>\n",
              "  <tbody>\n",
              "    <tr>\n",
              "      <th>447</th>\n",
              "      <td>(HUMBLE., Congratulations)</td>\n",
              "      <td>(XO TOUR Llif3,)</td>\n",
              "      <td>0.598</td>\n",
              "      <td>0.125</td>\n",
              "      <td>1.896</td>\n",
              "      <td>3</td>\n",
              "    </tr>\n",
              "    <tr>\n",
              "      <th>362</th>\n",
              "      <td>(HUMBLE., Congratulations)</td>\n",
              "      <td>(Mask Off,)</td>\n",
              "      <td>0.565</td>\n",
              "      <td>0.118</td>\n",
              "      <td>1.832</td>\n",
              "      <td>3</td>\n",
              "    </tr>\n",
              "    <tr>\n",
              "      <th>367</th>\n",
              "      <td>(iSpy (feat. Lil Yachty), HUMBLE.)</td>\n",
              "      <td>(Congratulations,)</td>\n",
              "      <td>0.703</td>\n",
              "      <td>0.106</td>\n",
              "      <td>1.787</td>\n",
              "      <td>3</td>\n",
              "    </tr>\n",
              "    <tr>\n",
              "      <th>368</th>\n",
              "      <td>(iSpy (feat. Lil Yachty), Congratulations)</td>\n",
              "      <td>(HUMBLE.,)</td>\n",
              "      <td>0.673</td>\n",
              "      <td>0.106</td>\n",
              "      <td>1.482</td>\n",
              "      <td>3</td>\n",
              "    </tr>\n",
              "  </tbody>\n",
              "</table>\n",
              "</div>"
            ],
            "text/plain": [
              "                                              X  ... len_itemset\n",
              "447                  (HUMBLE., Congratulations)  ...           3\n",
              "362                  (HUMBLE., Congratulations)  ...           3\n",
              "367          (iSpy (feat. Lil Yachty), HUMBLE.)  ...           3\n",
              "368  (iSpy (feat. Lil Yachty), Congratulations)  ...           3\n",
              "\n",
              "[4 rows x 6 columns]"
            ]
          },
          "metadata": {},
          "execution_count": 14
        }
      ]
    },
    {
      "cell_type": "markdown",
      "metadata": {
        "id": "VecQpJNfnuII"
      },
      "source": [
        "#Explicar reglas obtenidas\n",
        "\n",
        "Para considerar sobre las 4 reglas obtenidas:\n",
        "1.   Se puso un valor de umbral de soporte bajo (0.01) para que se pueda generar itemsets bastante discretos y faciles de analizar.\n",
        "2.   El valor de lift indicara que la relacion de X e Y estan relacionados y de la misma forma con el support escogi ambos para que nos de los que cumplen con los estandares de mejor forma asi analizando podria decirce lo mejor de lo mejor.\n",
        "\n",
        "\n",
        "\n"
      ]
    },
    {
      "cell_type": "markdown",
      "metadata": {
        "id": "BJMaPEYQnv5U"
      },
      "source": [
        "**Regla 1**\n",
        "\n",
        "```\n",
        "(HUMBLE., Congratulations) -> (XO TOUR Llif3)\n",
        "```\n",
        "Ambas canciones son de genero hiphop/rap y su relacion estada por la misma el genero musical.\n",
        "El valor de la confianza de la regla alcanza 0.598, es relativanmente baja considerando que ambos son del mismo genero musical, pero podemos alegar que este factor de confianza es bajo por los estilos que toman cada una.\n",
        "\n"
      ]
    },
    {
      "cell_type": "markdown",
      "metadata": {
        "id": "ZXMdPLjypB2W"
      },
      "source": [
        "**Regla 2**\n",
        "```\n",
        "(HUMBLE., Congratulations) -> (Mask Off)\t\n",
        "```\n",
        "En esta regla pordemos observar que su valor de confianza es aun mas bajo 0.565, como en la regla anterior ambos tienen como genero HipHop, y aun asi su valor de confianza es muy bajo, en este caso se puede decir que tienen una confianza baja por la epoca y el estilo, ya que en la industria de la musica se puede decir que no es nada esta estatica, siempre se puede encontrar variantes del mismo genero musical."
      ]
    },
    {
      "cell_type": "markdown",
      "metadata": {
        "id": "21qCNq3mpCjR"
      },
      "source": [
        "**Regla 3**\n",
        "\n",
        "```\n",
        "(iSpy (feat. Lil Yachty), HUMBLE.) -> (Congratulations)\t\n",
        "```\n",
        "Esta regla se nota que su factor de confianza es bueno ya que tiene 0.703, esto es debido a que estas canciones son del mismo artista."
      ]
    },
    {
      "cell_type": "markdown",
      "metadata": {
        "id": "Bli7ef5qpDIt"
      },
      "source": [
        "**Regla 4**\n",
        "\n",
        "```\n",
        "(iSpy (feat. Lil Yachty), Congratulations)\t(HUMBLE.,)\t\n",
        "```\n",
        "Esta cancion vuelve a aparecer al igual que la anterior regla por lo que se tiene una fuerte relacion ya que en esta oportunidad tiene un factor de confianza de 0.673, de esta regla podemos decir si escuchas a un artista te gustara toda su discografia."
      ]
    }
  ]
}